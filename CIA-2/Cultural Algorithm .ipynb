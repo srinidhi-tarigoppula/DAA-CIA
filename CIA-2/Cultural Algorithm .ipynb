{
 "cells": [
  {
   "cell_type": "markdown",
   "id": "91684b89",
   "metadata": {},
   "source": [
    "## Cultural Algorithm"
   ]
  },
  {
   "cell_type": "code",
   "execution_count": 1,
   "id": "ee676b39",
   "metadata": {},
   "outputs": [],
   "source": [
    "import numpy as np\n",
    "import torch\n",
    "import pandas as pd\n",
    "import tensorflow as tf"
   ]
  },
  {
   "cell_type": "code",
   "execution_count": 2,
   "id": "f8aff904",
   "metadata": {},
   "outputs": [],
   "source": [
    "df = pd.read_csv(\"Bank_Personal_Loan_Modelling.csv\")"
   ]
  },
  {
   "cell_type": "code",
   "execution_count": 3,
   "id": "9201bc70",
   "metadata": {},
   "outputs": [],
   "source": [
    "df.drop(['ID'] , axis = 1 , inplace = True)\n",
    "x = df.drop(['Personal Loan'] , axis = 1).values\n",
    "y = df['Personal Loan'].values\n",
    "x = torch.tensor(x , dtype = torch.float64)\n",
    "y = torch.tensor(y , dtype=  torch.float64)\n",
    "y = y.to(torch.float64)"
   ]
  },
  {
   "cell_type": "code",
   "execution_count": 4,
   "id": "3aca252b",
   "metadata": {},
   "outputs": [],
   "source": [
    "from sklearn.model_selection import train_test_split\n",
    "x_train , x_test , y_train , y_test = train_test_split(x , y , random_state = 100 , test_size = 0.25)"
   ]
  },
  {
   "cell_type": "code",
   "execution_count": 5,
   "id": "552aca15",
   "metadata": {},
   "outputs": [],
   "source": [
    "class NN(torch.nn.Module):\n",
    "    def __init__(self):\n",
    "        super().__init__()\n",
    "        self.linear1 = torch.nn.Linear(12, 10)\n",
    "        self.linear2 = torch.nn.Linear(10, 20)\n",
    "        self.linear3 = torch.nn.Linear(20 , 1)\n",
    "        self.relu = torch.nn.ReLU()\n",
    "        self.sigmoid = torch.nn.Sigmoid()\n",
    "\n",
    "    def forward(self, x):\n",
    "        x = self.linear1(x.float())\n",
    "        x = self.relu(x.float())\n",
    "        x = self.linear2(x.float())\n",
    "        x = self.linear3(x.float())\n",
    "        x = self.relu(x.float())\n",
    "        x = self.sigmoid(x.float())\n",
    "        return x"
   ]
  },
  {
   "cell_type": "code",
   "execution_count": 6,
   "id": "c806082d",
   "metadata": {},
   "outputs": [],
   "source": [
    "model = NN()\n",
    "loss_function = torch.nn.MSELoss()"
   ]
  },
  {
   "cell_type": "code",
   "execution_count": 7,
   "id": "70c77fff",
   "metadata": {},
   "outputs": [],
   "source": [
    "class CulturalOptimizer:\n",
    "    def __init__(self, model, population_size, mutation , decay ,  inputs  , labels):\n",
    "        self.model = model\n",
    "        self.population_size = population_size\n",
    "        self.mutation = mutation\n",
    "        self.population = self.init_population()\n",
    "        self.decay = decay\n",
    "        self.inputs = inputs\n",
    "        self.labels = labels\n",
    "        self.culture = None\n",
    "\n",
    "    def init_population(self):\n",
    "        population = []\n",
    "        for i in range(self.population_size):\n",
    "            weights = []\n",
    "            for weight in self.model.parameters():\n",
    "                weights.append(weight.data.numpy())\n",
    "            population.append(weights)\n",
    "        return population\n",
    "\n",
    "    def selection(self, fitness_scores):\n",
    "        cumulative_scores = np.cumsum(fitness_scores)\n",
    "        total_score = np.sum(fitness_scores)\n",
    "        rand = np.random.uniform(0, total_score)\n",
    "        selected_index = np.searchsorted(cumulative_scores, rand)\n",
    "        return selected_index\n",
    "\n",
    "    def crossover(self, male, female):\n",
    "        random_crossover = np.random.randint(1, len(male))\n",
    "        child1 = male[:random_crossover] + female[random_crossover:]\n",
    "        child2 = male[:random_crossover] + female[random_crossover:]\n",
    "        return child1, child2\n",
    "    \n",
    "    def decay_mutation_rate(self):\n",
    "        self.mutation -= (self.decay*self.mutation)\n",
    "\n",
    "    def mutate(self, child):\n",
    "        for i in range(len(child)):\n",
    "            if np.random.uniform(0, 1) < self.mutation:\n",
    "                child[i] += np.random.normal(0, 0.1, child[i].shape)\n",
    "        return child\n",
    "\n",
    "    def generate_offspring(self, fitness_scores):\n",
    "        new_population = []\n",
    "        for _ in range(self.population_size):\n",
    "            parent1_index = self.selection(fitness_scores)\n",
    "            parent2_index = self.selection(fitness_scores)\n",
    "            parent1 = self.population[parent1_index]\n",
    "            parent2 = self.population[parent2_index]\n",
    "            child1, child2 = self.crossover(parent1, parent2)\n",
    "            child1 = self.mutate(child1)\n",
    "            child2 = self.mutate(child2)\n",
    "            new_population.append(child1)\n",
    "            new_population.append(child2)\n",
    "        self.population = new_population\n",
    "\n",
    "    def update_weight(self):\n",
    "        fitness_scores = [self.fitness(weights) for weights in self.population]\n",
    "        best_index = np.argmax(fitness_scores)\n",
    "        best_weights = self.population[best_index]\n",
    "        for i, param in enumerate(self.model.parameters()):\n",
    "            param.data = torch.Tensor(best_weights[i])\n",
    "\n",
    "    def fitness(self, weights):\n",
    "        if (self.culture == None):\n",
    "            for i, param in enumerate(self.model.parameters()):\n",
    "                param.data = torch.Tensor(weights[i])\n",
    "            outputs = self.model(self.inputs)\n",
    "            loss = loss_function(outputs.float(), self.labels.reshape([len(self.inputs) , 1]).float())\n",
    "            return 1 / (loss.item() + 1e-6)"
   ]
  },
  {
   "cell_type": "code",
   "execution_count": 8,
   "id": "accff2b6",
   "metadata": {},
   "outputs": [],
   "source": [
    "cultural = CulturalOptimizer(model, population_size=20, mutation=0.3, decay = 0.05, inputs = x_train, labels = y_train)"
   ]
  },
  {
   "cell_type": "code",
   "execution_count": 9,
   "id": "19b860eb",
   "metadata": {},
   "outputs": [],
   "source": [
    "def train(num_epochs):\n",
    "    loss_list = []\n",
    "    with tf.device('/gpu:0'):\n",
    "        for epoch in range(num_epochs):\n",
    "            cultural.generate_offspring([])\n",
    "            cultural.update_weight()\n",
    "            outputs = model(x_train)\n",
    "            loss = loss_function(outputs, y_train.reshape([len(x_train) , 1]).float())\n",
    "            loss_list.append(loss.item())\n",
    "            loss.backward()\n",
    "            cultural.generate_offspring([])\n",
    "            cultural.update_weight()\n",
    "            if (epoch%10 == 0):\n",
    "                print(\"Epoch\" , epoch , \" : \" , loss.item());\n",
    "                cultural.decay_mutation_rate()\n",
    "    return loss_list"
   ]
  }
 ],
 "metadata": {
  "kernelspec": {
   "display_name": "Python 3 (ipykernel)",
   "language": "python",
   "name": "python3"
  },
  "language_info": {
   "codemirror_mode": {
    "name": "ipython",
    "version": 3
   },
   "file_extension": ".py",
   "mimetype": "text/x-python",
   "name": "python",
   "nbconvert_exporter": "python",
   "pygments_lexer": "ipython3",
   "version": "3.9.7"
  }
 },
 "nbformat": 4,
 "nbformat_minor": 5
}
