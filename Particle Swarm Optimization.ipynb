{
 "cells": [
  {
   "cell_type": "markdown",
   "id": "6a0149a8",
   "metadata": {},
   "source": [
    "## Particle Swarm Optimization"
   ]
  },
  {
   "cell_type": "code",
   "execution_count": 1,
   "id": "f2778ee6",
   "metadata": {},
   "outputs": [],
   "source": [
    "import numpy as np\n",
    "import pandas as pd\n",
    "import matplotlib.pyplot as plt\n",
    "import seaborn as sns\n",
    "import random\n",
    "from sklearn.metrics import classification_report"
   ]
  },
  {
   "cell_type": "code",
   "execution_count": 2,
   "id": "125e7a09",
   "metadata": {},
   "outputs": [],
   "source": [
    "df = pd.read_csv(\"Bank_Personal_Loan_Modelling.csv\")"
   ]
  },
  {
   "cell_type": "code",
   "execution_count": 3,
   "id": "0119c64d",
   "metadata": {},
   "outputs": [
    {
     "data": {
      "text/html": [
       "<div>\n",
       "<style scoped>\n",
       "    .dataframe tbody tr th:only-of-type {\n",
       "        vertical-align: middle;\n",
       "    }\n",
       "\n",
       "    .dataframe tbody tr th {\n",
       "        vertical-align: top;\n",
       "    }\n",
       "\n",
       "    .dataframe thead th {\n",
       "        text-align: right;\n",
       "    }\n",
       "</style>\n",
       "<table border=\"1\" class=\"dataframe\">\n",
       "  <thead>\n",
       "    <tr style=\"text-align: right;\">\n",
       "      <th></th>\n",
       "      <th>ID</th>\n",
       "      <th>Age</th>\n",
       "      <th>Experience</th>\n",
       "      <th>Income</th>\n",
       "      <th>ZIP Code</th>\n",
       "      <th>Family</th>\n",
       "      <th>CCAvg</th>\n",
       "      <th>Education</th>\n",
       "      <th>Mortgage</th>\n",
       "      <th>Personal Loan</th>\n",
       "      <th>Securities Account</th>\n",
       "      <th>CD Account</th>\n",
       "      <th>Online</th>\n",
       "      <th>CreditCard</th>\n",
       "    </tr>\n",
       "  </thead>\n",
       "  <tbody>\n",
       "    <tr>\n",
       "      <th>0</th>\n",
       "      <td>1</td>\n",
       "      <td>25</td>\n",
       "      <td>1</td>\n",
       "      <td>49</td>\n",
       "      <td>91107</td>\n",
       "      <td>4</td>\n",
       "      <td>1.6</td>\n",
       "      <td>1</td>\n",
       "      <td>0</td>\n",
       "      <td>0</td>\n",
       "      <td>1</td>\n",
       "      <td>0</td>\n",
       "      <td>0</td>\n",
       "      <td>0</td>\n",
       "    </tr>\n",
       "    <tr>\n",
       "      <th>1</th>\n",
       "      <td>2</td>\n",
       "      <td>45</td>\n",
       "      <td>19</td>\n",
       "      <td>34</td>\n",
       "      <td>90089</td>\n",
       "      <td>3</td>\n",
       "      <td>1.5</td>\n",
       "      <td>1</td>\n",
       "      <td>0</td>\n",
       "      <td>0</td>\n",
       "      <td>1</td>\n",
       "      <td>0</td>\n",
       "      <td>0</td>\n",
       "      <td>0</td>\n",
       "    </tr>\n",
       "    <tr>\n",
       "      <th>2</th>\n",
       "      <td>3</td>\n",
       "      <td>39</td>\n",
       "      <td>15</td>\n",
       "      <td>11</td>\n",
       "      <td>94720</td>\n",
       "      <td>1</td>\n",
       "      <td>1.0</td>\n",
       "      <td>1</td>\n",
       "      <td>0</td>\n",
       "      <td>0</td>\n",
       "      <td>0</td>\n",
       "      <td>0</td>\n",
       "      <td>0</td>\n",
       "      <td>0</td>\n",
       "    </tr>\n",
       "    <tr>\n",
       "      <th>3</th>\n",
       "      <td>4</td>\n",
       "      <td>35</td>\n",
       "      <td>9</td>\n",
       "      <td>100</td>\n",
       "      <td>94112</td>\n",
       "      <td>1</td>\n",
       "      <td>2.7</td>\n",
       "      <td>2</td>\n",
       "      <td>0</td>\n",
       "      <td>0</td>\n",
       "      <td>0</td>\n",
       "      <td>0</td>\n",
       "      <td>0</td>\n",
       "      <td>0</td>\n",
       "    </tr>\n",
       "    <tr>\n",
       "      <th>4</th>\n",
       "      <td>5</td>\n",
       "      <td>35</td>\n",
       "      <td>8</td>\n",
       "      <td>45</td>\n",
       "      <td>91330</td>\n",
       "      <td>4</td>\n",
       "      <td>1.0</td>\n",
       "      <td>2</td>\n",
       "      <td>0</td>\n",
       "      <td>0</td>\n",
       "      <td>0</td>\n",
       "      <td>0</td>\n",
       "      <td>0</td>\n",
       "      <td>1</td>\n",
       "    </tr>\n",
       "  </tbody>\n",
       "</table>\n",
       "</div>"
      ],
      "text/plain": [
       "   ID  Age  Experience  Income  ZIP Code  Family  CCAvg  Education  Mortgage  \\\n",
       "0   1   25           1      49     91107       4    1.6          1         0   \n",
       "1   2   45          19      34     90089       3    1.5          1         0   \n",
       "2   3   39          15      11     94720       1    1.0          1         0   \n",
       "3   4   35           9     100     94112       1    2.7          2         0   \n",
       "4   5   35           8      45     91330       4    1.0          2         0   \n",
       "\n",
       "   Personal Loan  Securities Account  CD Account  Online  CreditCard  \n",
       "0              0                   1           0       0           0  \n",
       "1              0                   1           0       0           0  \n",
       "2              0                   0           0       0           0  \n",
       "3              0                   0           0       0           0  \n",
       "4              0                   0           0       0           1  "
      ]
     },
     "execution_count": 3,
     "metadata": {},
     "output_type": "execute_result"
    }
   ],
   "source": [
    "df.head()"
   ]
  },
  {
   "cell_type": "code",
   "execution_count": 4,
   "id": "ff903cad",
   "metadata": {},
   "outputs": [],
   "source": [
    "df.drop([\"ID\", \"ZIP Code\"],axis=1,inplace=True)"
   ]
  },
  {
   "cell_type": "code",
   "execution_count": 5,
   "id": "930430b7",
   "metadata": {},
   "outputs": [
    {
     "name": "stdout",
     "output_type": "stream",
     "text": [
      "[ 1 19 15  9  8 13 27 24 10 39  5 23 32 41 30 14 18 21 28 31 11 16 20 35\n",
      "  6 25  7 12 26 37 17  2 36 29  3 22 -1 34  0 38 40 33  4 -2 42 -3 43]\n"
     ]
    }
   ],
   "source": [
    "print(df[\"Experience\"].unique())\n",
    "df[\"Experience\"] = abs(df[\"Experience\"])"
   ]
  },
  {
   "cell_type": "code",
   "execution_count": 6,
   "id": "af0d477f",
   "metadata": {},
   "outputs": [],
   "source": [
    "df = df[['Age', 'Experience', 'Income', 'Family', 'CCAvg','Education', 'Mortgage', 'Securities Account','CD Account', 'Online', 'CreditCard', 'Personal Loan']]"
   ]
  },
  {
   "cell_type": "code",
   "execution_count": 7,
   "id": "bab5527f",
   "metadata": {},
   "outputs": [],
   "source": [
    "x = df.iloc[:,:-1].values\n",
    "y = df.iloc[:,-1].values"
   ]
  },
  {
   "cell_type": "code",
   "execution_count": 8,
   "id": "37abe2cd",
   "metadata": {},
   "outputs": [],
   "source": [
    "from sklearn.model_selection import train_test_split\n",
    "x_train,x_test,y_train,y_test = train_test_split(x,y,test_size=0.25,random_state=123)"
   ]
  },
  {
   "cell_type": "code",
   "execution_count": 9,
   "id": "79980317",
   "metadata": {},
   "outputs": [],
   "source": [
    "from sklearn.preprocessing import StandardScaler\n",
    "sc = StandardScaler()\n",
    "x_train = sc.fit_transform(x_train)\n",
    "x_test = sc.transform(x_test)"
   ]
  },
  {
   "cell_type": "code",
   "execution_count": 10,
   "id": "a29c56a3",
   "metadata": {},
   "outputs": [],
   "source": [
    "import torch\n",
    "from torch.utils.data import DataLoader, TensorDataset"
   ]
  },
  {
   "cell_type": "code",
   "execution_count": 11,
   "id": "2abd7d68",
   "metadata": {},
   "outputs": [],
   "source": [
    "batch = 1"
   ]
  },
  {
   "cell_type": "code",
   "execution_count": 12,
   "id": "246002f2",
   "metadata": {},
   "outputs": [],
   "source": [
    "train_x = torch.from_numpy(x_train).to(torch.float32)\n",
    "train_y = torch.from_numpy(y_train).to(torch.float32)"
   ]
  },
  {
   "cell_type": "code",
   "execution_count": 13,
   "id": "ec3a8b09",
   "metadata": {},
   "outputs": [],
   "source": [
    "data = TensorDataset(train_x,train_y)\n",
    "data = DataLoader(data,batch_size=batch,shuffle=True)"
   ]
  },
  {
   "cell_type": "code",
   "execution_count": 14,
   "id": "9e90cd17",
   "metadata": {},
   "outputs": [],
   "source": [
    "class Model(torch.nn.Module):\n",
    "    \n",
    "    def __init__(self):\n",
    "        super(Model,self).__init__()\n",
    "        \n",
    "        self.layer1 = torch.nn.Linear(11,16)\n",
    "        self.layer2 = torch.nn.Linear(16,1)\n",
    "        self.sigmoid = torch.nn.Sigmoid()\n",
    "        self.relu = torch.nn.ReLU()\n",
    "        \n",
    "    def forward(self, x):\n",
    "        x = self.layer1(x)\n",
    "        x = self.relu(x)\n",
    "        x = self.layer2(x)\n",
    "        x = self.sigmoid(x)\n",
    "        return x"
   ]
  },
  {
   "cell_type": "code",
   "execution_count": 15,
   "id": "21682030",
   "metadata": {},
   "outputs": [
    {
     "name": "stdout",
     "output_type": "stream",
     "text": [
      "Model(\n",
      "  (layer1): Linear(in_features=11, out_features=16, bias=True)\n",
      "  (layer2): Linear(in_features=16, out_features=1, bias=True)\n",
      "  (sigmoid): Sigmoid()\n",
      "  (relu): ReLU()\n",
      ")\n"
     ]
    }
   ],
   "source": [
    "model = Model()\n",
    "print(model)"
   ]
  },
  {
   "cell_type": "code",
   "execution_count": 16,
   "id": "93639a4f",
   "metadata": {},
   "outputs": [
    {
     "name": "stdout",
     "output_type": "stream",
     "text": [
      "Dim :  209\n",
      "Layers Shape :  [(16, 11), (16,), (1, 16), (1,)]\n",
      "Layers Size :  [176, 16, 16, 1]\n"
     ]
    }
   ],
   "source": [
    "from pyswarms.single import GlobalBestPSO\n",
    "torch.manual_seed(420)\n",
    "torch.set_grad_enabled(False)\n",
    "\n",
    "model = Model()\n",
    "param = np.concatenate([i.numpy().flatten() for i in model.parameters()])\n",
    "shape = [i.numpy().shape for i in model.parameters()]\n",
    "size = [i[0]*i[1] if len(i) == 2 else i[0] for i in shape]\n",
    "\n",
    "print(\"Dim : \", len(param))\n",
    "print(\"Layers Shape : \", shape)\n",
    "print(\"Layers Size : \", size)"
   ]
  },
  {
   "cell_type": "code",
   "execution_count": 17,
   "id": "d6c3ef7d",
   "metadata": {},
   "outputs": [],
   "source": [
    "def objective_function(particle,shape=shape,size=size):\n",
    "    accuracy = []\n",
    "    output = []\n",
    "    \n",
    "    for par in particle:\n",
    "        param = list()\n",
    "        cum_sum = 0\n",
    "        for i in range(len(size)):\n",
    "            array = par[cum_sum : cum_sum + size[i]]\n",
    "            array = array.reshape(shape[i])\n",
    "            cum_sum += size[i]\n",
    "            param.append(array)\n",
    "        param = np.array(param, dtype=\"object\")\n",
    "        output.append(param)\n",
    "    \n",
    "    for i in range(len(output)):\n",
    "        model = Model()\n",
    "        for idx,wei in enumerate(model.parameters()):\n",
    "            wei.data = (torch.tensor(output[i][idx])).to(torch.float32)\n",
    "        \n",
    "        y_pred = model(train_x)\n",
    "        y_pred = torch.where(y_pred>=0.5, 1, 0).flatten()\n",
    "        acc = (y_pred == train_y).sum().float().item() / len(data.dataset)\n",
    "        accuracy.append(1 - acc) \n",
    "        \n",
    "    return accuracy"
   ]
  },
  {
   "cell_type": "code",
   "execution_count": 18,
   "id": "8cc666d6",
   "metadata": {},
   "outputs": [],
   "source": [
    "options = {'c1': 0.6, 'c2': 0.3, 'w': 0.1}\n",
    "dim = len(param)\n",
    "x_max = 1.0 * np.ones(dim)\n",
    "x_min = -1.0 * x_max\n",
    "bounds = (x_min, x_max)\n",
    "\n",
    "pso = GlobalBestPSO(n_particles=500, dimensions=209, options=options, bounds=bounds)"
   ]
  },
  {
   "cell_type": "code",
   "execution_count": 19,
   "id": "ee94413a",
   "metadata": {},
   "outputs": [
    {
     "name": "stderr",
     "output_type": "stream",
     "text": [
      "2023-04-05 18:48:05,511 - pyswarms.single.global_best - INFO - Optimize for 50 iters with {'c1': 0.6, 'c2': 0.3, 'w': 0.1}\n",
      "pyswarms.single.global_best: 100%|█████████████████████████████████████████████████████████████|50/50, best_cost=0.0456\n",
      "2023-04-05 18:48:23,555 - pyswarms.single.global_best - INFO - Optimization finished | best cost: 0.045599999999999974, best pos: [-0.1197508   0.07416173 -0.26413286 -0.20476234  0.32248345  0.06174855\n",
      "  0.39176724 -0.05580293 -0.51284523 -0.22685175 -0.50229463 -0.03023186\n",
      "  0.232095   -0.03856761 -0.38803522  0.21802508 -0.3784271  -0.30496\n",
      "  0.43919667 -0.24079738  0.18530152  0.30983791 -0.32001764  0.0597175\n",
      "  0.03632807 -0.02626063  0.21741415  0.47943676  0.16092941 -0.28475509\n",
      " -0.20946912  0.3440803   0.07294315  0.09899608  0.52769516  0.41052526\n",
      " -0.41043868 -0.20645524  0.16409004  0.09177618 -0.33019026  0.31386829\n",
      "  0.56823456 -0.16441114  0.05745027 -0.13200033  0.2287742  -0.35992975\n",
      " -0.36337838 -0.1429912  -0.14092981 -0.08869331 -0.4705933   0.31384176\n",
      "  0.19379369 -0.01396793  0.2126519   0.42910868 -0.19886276  0.13571896\n",
      "  0.46569457  0.20326982 -0.43104634  0.29969711  0.00235417 -0.29761953\n",
      " -0.3090331  -0.17435757 -0.17134984 -0.35964437 -0.05076334  0.31073788\n",
      " -0.30178374  0.48001086  0.43280766  0.43916882 -0.23075659 -0.06880777\n",
      "  0.20599968  0.29871646  0.23980105  0.43931845 -0.00799897  0.08816882\n",
      " -0.27435729  0.40814097  0.13052874 -0.44594105  0.35198888  0.10902081\n",
      "  0.00269968 -0.32751751 -0.10480379 -0.07462765  0.38319943  0.32684301\n",
      "  0.14218702 -0.11097743  0.15356094 -0.13262565 -0.15788456 -0.54264187\n",
      " -0.18232048  0.42880203 -0.46078482 -0.23523476  0.06535932 -0.18538369\n",
      "  0.23016748 -0.02677294 -0.10389771  0.09561604 -0.08229659  0.11430762\n",
      " -0.03543022  0.33619434  0.27405263 -0.32642078 -0.42647455 -0.42127701\n",
      "  0.14604633  0.41764196  0.01761285 -0.22613523  0.22225225  0.12754221\n",
      "  0.26243534 -0.09415194 -0.01893151  0.09487006  0.1787404   0.07692482\n",
      " -0.53751425 -0.26612654  0.22876885  0.2120584   0.03950116 -0.34053025\n",
      " -0.0232174   0.19142767  0.09389069 -0.06124988  0.28267665  0.1312725\n",
      " -0.33718701  0.41904786  0.63211758  0.14681662 -0.04827652  0.37853494\n",
      "  0.07020578 -0.0489414  -0.38221777  0.39953312  0.22233021  0.47006683\n",
      " -0.03821098 -0.09163431 -0.13429668 -0.31636466  0.12448947  0.10355124\n",
      " -0.26892218  0.30010761 -0.10635311  0.21498031 -0.10698953  0.27039053\n",
      " -0.19544529  0.0178909   0.13576167 -0.38000578  0.15740193  0.55878566\n",
      "  0.18309889 -0.08457565 -0.54012608  0.44795023 -0.15702655  0.08031919\n",
      " -0.22981999 -0.06349744 -0.06187764 -0.15110199 -0.34526956 -0.10321805\n",
      "  0.20187302 -0.15131476  0.57410984  0.0534538  -0.07914311  0.10777495\n",
      " -0.22671448 -0.25374586 -0.05092043 -0.09584031  0.05077387  0.25135005\n",
      " -0.16510062  0.05727939 -0.3195355  -0.19721409 -0.26015306 -0.22770176\n",
      " -0.12530693  0.25351234 -0.1859323   0.21668721 -0.04726825]\n"
     ]
    },
    {
     "name": "stdout",
     "output_type": "stream",
     "text": [
      "Accuracy :  0.9544\n"
     ]
    }
   ],
   "source": [
    "best_cost, best_parameters = pso.optimize(objective_function, iters=50)\n",
    "print(\"Accuracy : \", 1 - best_cost)"
   ]
  },
  {
   "cell_type": "code",
   "execution_count": 20,
   "id": "b4f213ca",
   "metadata": {},
   "outputs": [
    {
     "name": "stdout",
     "output_type": "stream",
     "text": [
      "Accuracy :  0.9544\n"
     ]
    }
   ],
   "source": [
    "result = []\n",
    "for par in [best_parameters]:\n",
    "    param = list()\n",
    "    cum_sum = 0\n",
    "    for i in range(len(size)):\n",
    "        array = par[cum_sum : cum_sum + size[i]]\n",
    "        array = array.reshape(shape[i])\n",
    "        cum_sum += size[i]\n",
    "        param.append(array)\n",
    "    param = np.array(param, dtype=\"object\")\n",
    "    result.append(param)\n",
    "\n",
    "best_model = Model()\n",
    "for index,weight in enumerate(best_model.parameters()):\n",
    "    weight.data = (torch.tensor(result[0][index])).to(torch.float32)\n",
    "\n",
    "y_pred = best_model(train_x)\n",
    "y_pred = torch.where(y_pred>=0.5, 1, 0).flatten()\n",
    "acc = (y_pred == train_y).sum().float().item() / len(data.dataset)\n",
    "print(\"Accuracy : \", acc)"
   ]
  },
  {
   "cell_type": "code",
   "execution_count": 21,
   "id": "e3d5908d",
   "metadata": {},
   "outputs": [],
   "source": [
    "test_x = torch.from_numpy(x_test).to(torch.float32)\n",
    "test_y = torch.from_numpy(y_test).to(torch.float32)"
   ]
  },
  {
   "cell_type": "code",
   "execution_count": 22,
   "id": "6330e929",
   "metadata": {},
   "outputs": [],
   "source": [
    "test = TensorDataset(test_x,test_y)\n",
    "test = DataLoader(test,batch_size=1)"
   ]
  },
  {
   "cell_type": "code",
   "execution_count": 23,
   "id": "d255b50c",
   "metadata": {},
   "outputs": [
    {
     "name": "stdout",
     "output_type": "stream",
     "text": [
      "              precision    recall  f1-score   support\n",
      "\n",
      "           0       0.99      0.96      0.97      1164\n",
      "           1       0.58      0.85      0.69        86\n",
      "\n",
      "    accuracy                           0.95      1250\n",
      "   macro avg       0.79      0.90      0.83      1250\n",
      "weighted avg       0.96      0.95      0.95      1250\n",
      "\n"
     ]
    }
   ],
   "source": [
    "y_pred = best_model(test_x)\n",
    "y_pred = torch.where(y_pred>=0.5, 1, 0).flatten()\n",
    "print(classification_report(y_pred,test_y))"
   ]
  }
 ],
 "metadata": {
  "kernelspec": {
   "display_name": "Python 3 (ipykernel)",
   "language": "python",
   "name": "python3"
  },
  "language_info": {
   "codemirror_mode": {
    "name": "ipython",
    "version": 3
   },
   "file_extension": ".py",
   "mimetype": "text/x-python",
   "name": "python",
   "nbconvert_exporter": "python",
   "pygments_lexer": "ipython3",
   "version": "3.9.7"
  }
 },
 "nbformat": 4,
 "nbformat_minor": 5
}
