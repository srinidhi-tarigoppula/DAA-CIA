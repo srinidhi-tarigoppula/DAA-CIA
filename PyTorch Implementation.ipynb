{
 "cells": [
  {
   "cell_type": "markdown",
   "id": "f2281416",
   "metadata": {},
   "source": [
    "## PyTorch Implementation"
   ]
  },
  {
   "cell_type": "code",
   "execution_count": 1,
   "id": "ffaa90bf",
   "metadata": {},
   "outputs": [],
   "source": [
    "import numpy as np\n",
    "import matplotlib.pyplot as plt\n",
    "import torch\n",
    "import torch.nn as nn\n",
    "import torch.nn.functional as f\n",
    "import torch.optim\n",
    "from torch.utils.data import DataLoader , TensorDataset\n",
    "import tensorflow as tf\n",
    "from   torch.optim.lr_scheduler import ExponentialLR as ExponentialLR"
   ]
  },
  {
   "cell_type": "code",
   "execution_count": 2,
   "id": "b65a4fe7",
   "metadata": {},
   "outputs": [],
   "source": [
    "import pandas as pd\n",
    "data = pd.read_csv('Bank_Personal_Loan_Modelling.csv')"
   ]
  },
  {
   "cell_type": "code",
   "execution_count": 3,
   "id": "6251df89",
   "metadata": {},
   "outputs": [
    {
     "data": {
      "text/html": [
       "<div>\n",
       "<style scoped>\n",
       "    .dataframe tbody tr th:only-of-type {\n",
       "        vertical-align: middle;\n",
       "    }\n",
       "\n",
       "    .dataframe tbody tr th {\n",
       "        vertical-align: top;\n",
       "    }\n",
       "\n",
       "    .dataframe thead th {\n",
       "        text-align: right;\n",
       "    }\n",
       "</style>\n",
       "<table border=\"1\" class=\"dataframe\">\n",
       "  <thead>\n",
       "    <tr style=\"text-align: right;\">\n",
       "      <th></th>\n",
       "      <th>ID</th>\n",
       "      <th>Age</th>\n",
       "      <th>Experience</th>\n",
       "      <th>Income</th>\n",
       "      <th>ZIP Code</th>\n",
       "      <th>Family</th>\n",
       "      <th>CCAvg</th>\n",
       "      <th>Education</th>\n",
       "      <th>Mortgage</th>\n",
       "      <th>Personal Loan</th>\n",
       "      <th>Securities Account</th>\n",
       "      <th>CD Account</th>\n",
       "      <th>Online</th>\n",
       "      <th>CreditCard</th>\n",
       "    </tr>\n",
       "  </thead>\n",
       "  <tbody>\n",
       "    <tr>\n",
       "      <th>0</th>\n",
       "      <td>1</td>\n",
       "      <td>25</td>\n",
       "      <td>1</td>\n",
       "      <td>49</td>\n",
       "      <td>91107</td>\n",
       "      <td>4</td>\n",
       "      <td>1.6</td>\n",
       "      <td>1</td>\n",
       "      <td>0</td>\n",
       "      <td>0</td>\n",
       "      <td>1</td>\n",
       "      <td>0</td>\n",
       "      <td>0</td>\n",
       "      <td>0</td>\n",
       "    </tr>\n",
       "    <tr>\n",
       "      <th>1</th>\n",
       "      <td>2</td>\n",
       "      <td>45</td>\n",
       "      <td>19</td>\n",
       "      <td>34</td>\n",
       "      <td>90089</td>\n",
       "      <td>3</td>\n",
       "      <td>1.5</td>\n",
       "      <td>1</td>\n",
       "      <td>0</td>\n",
       "      <td>0</td>\n",
       "      <td>1</td>\n",
       "      <td>0</td>\n",
       "      <td>0</td>\n",
       "      <td>0</td>\n",
       "    </tr>\n",
       "    <tr>\n",
       "      <th>2</th>\n",
       "      <td>3</td>\n",
       "      <td>39</td>\n",
       "      <td>15</td>\n",
       "      <td>11</td>\n",
       "      <td>94720</td>\n",
       "      <td>1</td>\n",
       "      <td>1.0</td>\n",
       "      <td>1</td>\n",
       "      <td>0</td>\n",
       "      <td>0</td>\n",
       "      <td>0</td>\n",
       "      <td>0</td>\n",
       "      <td>0</td>\n",
       "      <td>0</td>\n",
       "    </tr>\n",
       "    <tr>\n",
       "      <th>3</th>\n",
       "      <td>4</td>\n",
       "      <td>35</td>\n",
       "      <td>9</td>\n",
       "      <td>100</td>\n",
       "      <td>94112</td>\n",
       "      <td>1</td>\n",
       "      <td>2.7</td>\n",
       "      <td>2</td>\n",
       "      <td>0</td>\n",
       "      <td>0</td>\n",
       "      <td>0</td>\n",
       "      <td>0</td>\n",
       "      <td>0</td>\n",
       "      <td>0</td>\n",
       "    </tr>\n",
       "    <tr>\n",
       "      <th>4</th>\n",
       "      <td>5</td>\n",
       "      <td>35</td>\n",
       "      <td>8</td>\n",
       "      <td>45</td>\n",
       "      <td>91330</td>\n",
       "      <td>4</td>\n",
       "      <td>1.0</td>\n",
       "      <td>2</td>\n",
       "      <td>0</td>\n",
       "      <td>0</td>\n",
       "      <td>0</td>\n",
       "      <td>0</td>\n",
       "      <td>0</td>\n",
       "      <td>1</td>\n",
       "    </tr>\n",
       "  </tbody>\n",
       "</table>\n",
       "</div>"
      ],
      "text/plain": [
       "   ID  Age  Experience  Income  ZIP Code  Family  CCAvg  Education  Mortgage  \\\n",
       "0   1   25           1      49     91107       4    1.6          1         0   \n",
       "1   2   45          19      34     90089       3    1.5          1         0   \n",
       "2   3   39          15      11     94720       1    1.0          1         0   \n",
       "3   4   35           9     100     94112       1    2.7          2         0   \n",
       "4   5   35           8      45     91330       4    1.0          2         0   \n",
       "\n",
       "   Personal Loan  Securities Account  CD Account  Online  CreditCard  \n",
       "0              0                   1           0       0           0  \n",
       "1              0                   1           0       0           0  \n",
       "2              0                   0           0       0           0  \n",
       "3              0                   0           0       0           0  \n",
       "4              0                   0           0       0           1  "
      ]
     },
     "execution_count": 3,
     "metadata": {},
     "output_type": "execute_result"
    }
   ],
   "source": [
    "data.head()"
   ]
  },
  {
   "cell_type": "code",
   "execution_count": 4,
   "id": "f8797389",
   "metadata": {},
   "outputs": [],
   "source": [
    "data.drop(['ID'] , inplace = True , axis = 1)"
   ]
  },
  {
   "cell_type": "code",
   "execution_count": 5,
   "id": "a53f301c",
   "metadata": {},
   "outputs": [],
   "source": [
    "x = data.drop(['Personal Loan'] , axis = 1).values\n",
    "y = data['Personal Loan'].values"
   ]
  },
  {
   "cell_type": "code",
   "execution_count": 6,
   "id": "d680346c",
   "metadata": {},
   "outputs": [],
   "source": [
    "x = torch.tensor(x , dtype = torch.float64)\n",
    "y = torch.tensor(y)\n",
    "y = y.type(torch.LongTensor)"
   ]
  },
  {
   "cell_type": "code",
   "execution_count": 7,
   "id": "3871b982",
   "metadata": {},
   "outputs": [],
   "source": [
    "class NN(nn.Module):\n",
    "    def __init__(self , input_size , hidden1 , hidden2 ,  output_size):\n",
    "        super().__init__()\n",
    "        self.input_ = nn.Linear(input_size , hidden1)\n",
    "        self.hidden1_ = nn.Linear(hidden1 , hidden2)\n",
    "        self.out = nn.Linear(hidden2 , output_size)\n",
    "    def forward(self , x):\n",
    "        x = f.relu(self.input_(x))\n",
    "        x = torch.sigmoid(self.hidden1_(x))\n",
    "        x = self.out(x)\n",
    "        x = f.sigmoid(x)\n",
    "        return x"
   ]
  },
  {
   "cell_type": "code",
   "execution_count": 8,
   "id": "cc8ca027",
   "metadata": {},
   "outputs": [],
   "source": [
    "model = NN(12 , 10 , 8 , 2)"
   ]
  },
  {
   "cell_type": "code",
   "execution_count": 9,
   "id": "a09cff9f",
   "metadata": {},
   "outputs": [
    {
     "data": {
      "text/plain": [
       "<bound method Module.parameters of NN(\n",
       "  (input_): Linear(in_features=12, out_features=10, bias=True)\n",
       "  (hidden1_): Linear(in_features=10, out_features=8, bias=True)\n",
       "  (out): Linear(in_features=8, out_features=2, bias=True)\n",
       ")>"
      ]
     },
     "execution_count": 9,
     "metadata": {},
     "output_type": "execute_result"
    }
   ],
   "source": [
    "model.parameters"
   ]
  },
  {
   "cell_type": "code",
   "execution_count": 10,
   "id": "f51ea910",
   "metadata": {},
   "outputs": [],
   "source": [
    "loss_function = nn.CrossEntropyLoss()"
   ]
  },
  {
   "cell_type": "code",
   "execution_count": 11,
   "id": "08635527",
   "metadata": {},
   "outputs": [],
   "source": [
    "optimizer = torch.optim.Adam( model.parameters(), lr=100)\n",
    "scheduler = ExponentialLR(optimizer, gamma=0.9)"
   ]
  },
  {
   "cell_type": "code",
   "execution_count": 12,
   "id": "57a29b8b",
   "metadata": {},
   "outputs": [],
   "source": [
    "n_epochs = 1000"
   ]
  },
  {
   "cell_type": "code",
   "execution_count": 13,
   "id": "2b7a4722",
   "metadata": {},
   "outputs": [],
   "source": [
    "data = TensorDataset(x , y)\n",
    "data = DataLoader(data)"
   ]
  },
  {
   "cell_type": "code",
   "execution_count": 14,
   "id": "1a99bf62",
   "metadata": {
    "scrolled": true
   },
   "outputs": [
    {
     "name": "stdout",
     "output_type": "stream",
     "text": [
      "Epoch 0 has loss of 0.6916993856430054\n",
      "Epoch 10 has loss of 0.409261554479599\n",
      "Epoch 20 has loss of 0.409261554479599\n",
      "Epoch 30 has loss of 0.409261554479599\n",
      "Epoch 40 has loss of 0.409261554479599\n",
      "Epoch 50 has loss of 0.409261554479599\n",
      "Epoch 60 has loss of 0.409261554479599\n",
      "Epoch 70 has loss of 0.409261554479599\n",
      "Epoch 80 has loss of 0.409261554479599\n",
      "Epoch 90 has loss of 0.409261554479599\n",
      "Epoch 100 has loss of 0.409261554479599\n",
      "Epoch 110 has loss of 0.409261554479599\n",
      "Epoch 120 has loss of 0.409261554479599\n",
      "Epoch 130 has loss of 0.409261554479599\n",
      "Epoch 140 has loss of 0.409261554479599\n",
      "Epoch 150 has loss of 0.409261554479599\n",
      "Epoch 160 has loss of 0.409261554479599\n",
      "Epoch 170 has loss of 0.409261554479599\n",
      "Epoch 180 has loss of 0.409261554479599\n",
      "Epoch 190 has loss of 0.409261554479599\n",
      "Epoch 200 has loss of 0.409261554479599\n",
      "Epoch 210 has loss of 0.409261554479599\n",
      "Epoch 220 has loss of 0.409261554479599\n",
      "Epoch 230 has loss of 0.409261554479599\n",
      "Epoch 240 has loss of 0.409261554479599\n",
      "Epoch 250 has loss of 0.409261554479599\n",
      "Epoch 260 has loss of 0.409261554479599\n",
      "Epoch 270 has loss of 0.409261554479599\n",
      "Epoch 280 has loss of 0.409261554479599\n",
      "Epoch 290 has loss of 0.409261554479599\n",
      "Epoch 300 has loss of 0.409261554479599\n",
      "Epoch 310 has loss of 0.409261554479599\n",
      "Epoch 320 has loss of 0.409261554479599\n",
      "Epoch 330 has loss of 0.409261554479599\n",
      "Epoch 340 has loss of 0.409261554479599\n",
      "Epoch 350 has loss of 0.409261554479599\n",
      "Epoch 360 has loss of 0.409261554479599\n",
      "Epoch 370 has loss of 0.409261554479599\n",
      "Epoch 380 has loss of 0.409261554479599\n",
      "Epoch 390 has loss of 0.409261554479599\n",
      "Epoch 400 has loss of 0.409261554479599\n",
      "Epoch 410 has loss of 0.409261554479599\n",
      "Epoch 420 has loss of 0.409261554479599\n",
      "Epoch 430 has loss of 0.409261554479599\n",
      "Epoch 440 has loss of 0.409261554479599\n",
      "Epoch 450 has loss of 0.409261554479599\n",
      "Epoch 460 has loss of 0.409261554479599\n",
      "Epoch 470 has loss of 0.409261554479599\n",
      "Epoch 480 has loss of 0.409261554479599\n",
      "Epoch 490 has loss of 0.409261554479599\n",
      "Epoch 500 has loss of 0.409261554479599\n",
      "Epoch 510 has loss of 0.409261554479599\n",
      "Epoch 520 has loss of 0.409261554479599\n",
      "Epoch 530 has loss of 0.409261554479599\n",
      "Epoch 540 has loss of 0.409261554479599\n",
      "Epoch 550 has loss of 0.409261554479599\n",
      "Epoch 560 has loss of 0.409261554479599\n",
      "Epoch 570 has loss of 0.409261554479599\n",
      "Epoch 580 has loss of 0.409261554479599\n",
      "Epoch 590 has loss of 0.409261554479599\n",
      "Epoch 600 has loss of 0.409261554479599\n",
      "Epoch 610 has loss of 0.409261554479599\n",
      "Epoch 620 has loss of 0.409261554479599\n",
      "Epoch 630 has loss of 0.409261554479599\n",
      "Epoch 640 has loss of 0.409261554479599\n",
      "Epoch 650 has loss of 0.409261554479599\n",
      "Epoch 660 has loss of 0.409261554479599\n",
      "Epoch 670 has loss of 0.409261554479599\n",
      "Epoch 680 has loss of 0.409261554479599\n",
      "Epoch 690 has loss of 0.409261554479599\n",
      "Epoch 700 has loss of 0.409261554479599\n",
      "Epoch 710 has loss of 0.409261554479599\n",
      "Epoch 720 has loss of 0.409261554479599\n",
      "Epoch 730 has loss of 0.409261554479599\n",
      "Epoch 740 has loss of 0.409261554479599\n",
      "Epoch 750 has loss of 0.409261554479599\n",
      "Epoch 760 has loss of 0.409261554479599\n",
      "Epoch 770 has loss of 0.409261554479599\n",
      "Epoch 780 has loss of 0.409261554479599\n",
      "Epoch 790 has loss of 0.409261554479599\n",
      "Epoch 800 has loss of 0.409261554479599\n",
      "Epoch 810 has loss of 0.409261554479599\n",
      "Epoch 820 has loss of 0.409261554479599\n",
      "Epoch 830 has loss of 0.409261554479599\n",
      "Epoch 840 has loss of 0.409261554479599\n",
      "Epoch 850 has loss of 0.409261554479599\n",
      "Epoch 860 has loss of 0.409261554479599\n",
      "Epoch 870 has loss of 0.409261554479599\n",
      "Epoch 880 has loss of 0.409261554479599\n",
      "Epoch 890 has loss of 0.409261554479599\n",
      "Epoch 900 has loss of 0.409261554479599\n",
      "Epoch 910 has loss of 0.409261554479599\n",
      "Epoch 920 has loss of 0.409261554479599\n",
      "Epoch 930 has loss of 0.409261554479599\n",
      "Epoch 940 has loss of 0.409261554479599\n",
      "Epoch 950 has loss of 0.409261554479599\n",
      "Epoch 960 has loss of 0.409261554479599\n",
      "Epoch 970 has loss of 0.409261554479599\n",
      "Epoch 980 has loss of 0.409261554479599\n",
      "Epoch 990 has loss of 0.409261554479599\n"
     ]
    }
   ],
   "source": [
    "with tf.device('/gpu:0'):\n",
    "    final_losses = []\n",
    "    for i in range(n_epochs):\n",
    "        y_pred = model(x.float())\n",
    "        loss = loss_function(y_pred , y)\n",
    "        final_losses.append(loss.item())\n",
    "        loss.backward()\n",
    "        optimizer.step()\n",
    "        scheduler.step()\n",
    "        optimizer.zero_grad()\n",
    "        if (i%10 == 0):\n",
    "            print(\"Epoch {} has loss of {}\".format(i , loss.item()))"
   ]
  },
  {
   "cell_type": "code",
   "execution_count": 15,
   "id": "fb551ecf",
   "metadata": {},
   "outputs": [],
   "source": [
    "predictions = []\n",
    "with torch.no_grad():\n",
    "    for i , data in enumerate(x):\n",
    "        y_pred = (model(data.float()))\n",
    "        predictions.append(y_pred.argmax().item())"
   ]
  },
  {
   "cell_type": "code",
   "execution_count": 16,
   "id": "555d38de",
   "metadata": {},
   "outputs": [],
   "source": [
    "from sklearn.metrics import classification_report"
   ]
  },
  {
   "cell_type": "code",
   "execution_count": 17,
   "id": "e2409bbe",
   "metadata": {},
   "outputs": [
    {
     "name": "stdout",
     "output_type": "stream",
     "text": [
      "              precision    recall  f1-score   support\n",
      "\n",
      "           0       0.90      1.00      0.95      4520\n",
      "           1       0.00      0.00      0.00       480\n",
      "\n",
      "    accuracy                           0.90      5000\n",
      "   macro avg       0.45      0.50      0.47      5000\n",
      "weighted avg       0.82      0.90      0.86      5000\n",
      "\n"
     ]
    },
    {
     "name": "stderr",
     "output_type": "stream",
     "text": [
      "C:\\Users\\Srinidhi Tarigoppula\\OneDrive\\Documents\\New folder\\lib\\site-packages\\sklearn\\metrics\\_classification.py:1318: UndefinedMetricWarning: Precision and F-score are ill-defined and being set to 0.0 in labels with no predicted samples. Use `zero_division` parameter to control this behavior.\n",
      "  _warn_prf(average, modifier, msg_start, len(result))\n",
      "C:\\Users\\Srinidhi Tarigoppula\\OneDrive\\Documents\\New folder\\lib\\site-packages\\sklearn\\metrics\\_classification.py:1318: UndefinedMetricWarning: Precision and F-score are ill-defined and being set to 0.0 in labels with no predicted samples. Use `zero_division` parameter to control this behavior.\n",
      "  _warn_prf(average, modifier, msg_start, len(result))\n",
      "C:\\Users\\Srinidhi Tarigoppula\\OneDrive\\Documents\\New folder\\lib\\site-packages\\sklearn\\metrics\\_classification.py:1318: UndefinedMetricWarning: Precision and F-score are ill-defined and being set to 0.0 in labels with no predicted samples. Use `zero_division` parameter to control this behavior.\n",
      "  _warn_prf(average, modifier, msg_start, len(result))\n"
     ]
    }
   ],
   "source": [
    "print(classification_report(y , predictions))"
   ]
  }
 ],
 "metadata": {
  "kernelspec": {
   "display_name": "Python 3 (ipykernel)",
   "language": "python",
   "name": "python3"
  },
  "language_info": {
   "codemirror_mode": {
    "name": "ipython",
    "version": 3
   },
   "file_extension": ".py",
   "mimetype": "text/x-python",
   "name": "python",
   "nbconvert_exporter": "python",
   "pygments_lexer": "ipython3",
   "version": "3.9.7"
  }
 },
 "nbformat": 4,
 "nbformat_minor": 5
}
